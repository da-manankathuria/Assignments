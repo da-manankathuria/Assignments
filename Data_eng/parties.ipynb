{
 "cells": [
  {
   "cell_type": "code",
   "execution_count": 364,
   "metadata": {},
   "outputs": [],
   "source": [
    "import pyspark \n",
    "import json\n",
    "from pyspark.sql import SparkSession\n",
    "spark = SparkSession.builder.getOrCreate()\n",
    "\n",
    "df = spark.read.json(\"donation_np.json\")"
   ]
  },
  {
   "cell_type": "code",
   "execution_count": 365,
   "metadata": {},
   "outputs": [],
   "source": [
    "df = df.withColumnRenamed(\"Contribution Mode\",\"mode_of_payment\").withColumnRenamed(\"Financial Year\" , \"fin_year\").withColumnRenamed(\"PAN Given\",\"pan_given\")\n",
    "df= df.na.drop(subset=[\"Name\"])"
   ]
  },
  {
   "cell_type": "code",
   "execution_count": 366,
   "metadata": {},
   "outputs": [],
   "source": [
    "from pyspark.sql.functions import *\n",
    "df = df.withColumn(\"Address\",sha2(concat_ws(\"||\",df.Address),256))"
   ]
  },
  {
   "cell_type": "code",
   "execution_count": 367,
   "metadata": {},
   "outputs": [],
   "source": [
    "df = df.drop(\"field9\",\"field10\",\"field11\",\"field12\",\"field13\",\"field14\")"
   ]
  },
  {
   "cell_type": "code",
   "execution_count": 368,
   "metadata": {},
   "outputs": [],
   "source": [
    "df = df.withColumn(\n",
    "    \"mode_of_payment\",\n",
    "    when(col(\"mode_of_payment\").like(\"%D.D%\") , \"Others\")\n",
    "    .when(col(\"mode_of_payment\").like(\"%CASH%\"),\"CASH\")\n",
    "    .when(col(\"mode_of_payment\").like(\"%Bank%\"),\"BANK\").otherwise(\"CHEQUE\"))"
   ]
  },
  {
   "cell_type": "code",
   "execution_count": 369,
   "metadata": {},
   "outputs": [
    {
     "name": "stdout",
     "output_type": "stream",
     "text": [
      "Lodha Dwellers Pvt. Ltd.\n"
     ]
    }
   ],
   "source": [
    "x=df.withColumn(\"Amount\",df.Amount.cast('int'))\n",
    "\n",
    "# SUM\n",
    "\n",
    "BJP_sum = x.where(x.Party==\"BJP\").select(sum(\"Amount\"))\n",
    "INC_sum = x.where(df.Party==\"INC\").select(sum(\"Amount\"))\n",
    "NCP_sum = x.where(x.Party==\"NCP\").select(sum(\"Amount\"))\n",
    "CPI_sum = x.where(x.Party==\"CPI\").select(sum(\"Amount\"))\n",
    "CPIM_sum = x.where(x.Party==\"CPI(M)\").select(sum(\"Amount\"))\n",
    "\n",
    "all_list = x.groupBy('Party').agg(count('Amount'),avg('Amount'),max('Amount'))\n",
    "\n",
    "# COUNT\n",
    "\n",
    "BJP_Donor = all_list.collect()[1][1]\n",
    "INC_Donor = all_list.collect()[0][1]\n",
    "NCP_Donor = all_list.collect()[2][1]\n",
    "CPI_Donor = all_list.collect()[3][1]\n",
    "CPIM_Donor = all_list.collect()[4][1]\n",
    "\n",
    "# AVG\n",
    "\n",
    "BJP_avg = all_list.collect()[1][2]\n",
    "INC_avg = all_list.collect()[0][2]\n",
    "NCP_avg = all_list.collect()[2][2]\n",
    "CPI_avg = all_list.collect()[3][2]\n",
    "CPIM_avg = all_list.collect()[4][2]\n",
    "\n",
    "# MAX\n",
    "\n",
    "BJP_max = all_list.collect()[1][3]\n",
    "INC_max = all_list.collect()[0][3]\n",
    "NCP_max = all_list.collect()[2][3]\n",
    "CPI_max = all_list.collect()[3][3]\n",
    "CPIM_max = all_list.collect()[4][3]\n",
    "\n",
    "# TOP DONOR\n",
    "\n",
    "BJP_top_donor = x.filter((x.Party==\"BJP\") & (x.Amount == all_list.collect()[0][3])).first()[\"Name\"]\n",
    "INC_top_donor = x.filter((x.Party==\"INC\") & (x.Amount == all_list.collect()[1][3])).first()[\"Name\"]\n",
    "NCP_top_donor = x.filter((x.Party==\"NCP\") & (x.Amount == all_list.collect()[2][3])).first()[\"Name\"]\n",
    "CPI_top_donor = x.filter((x.Party==\"CPI\") & (x.Amount == all_list.collect()[3][3])).first()[\"Name\"]\n",
    "CPIM_top_donor = x.filter((x.Party==\"CPI(M)\") & (x.Amount == all_list.collect()[4][3])).first()[\"Name\"]\n",
    "\n",
    "\n",
    "print(NCP_top_donor)\n",
    "\n",
    "#x.groupBy('mode_of_payment').agg(count('mode_of_payment')).show()\n",
    "\n",
    "\n",
    "\n",
    "\n",
    "#df.select('fin_year').distinct().show()"
   ]
  },
  {
   "cell_type": "code",
   "execution_count": 370,
   "metadata": {},
   "outputs": [],
   "source": [
    "\n",
    "y = x.withColumn('INC_SUM_LTD',when(x.Party=='INC',INC_sum.first()[\"sum(Amount)\"]).otherwise(0))\n",
    "y = y.withColumn('BJP_SUM_LTD',when(x.Party=='BJP',BJP_sum.first()[\"sum(Amount)\"]).otherwise(0))\n",
    "y = y.withColumn('NCP_SUM_LTD',when(x.Party=='NCP',NCP_sum.first()[\"sum(Amount)\"]).otherwise(0))\n",
    "y = y.withColumn('CPI_SUM_LTD',when(x.Party=='CPI',CPI_sum.first()[\"sum(Amount)\"]).otherwise(0))\n",
    "y = y.withColumn('CPIM_SUM_LTD',when(x.Party=='CPI(M)',CPIM_sum.first()[\"sum(Amount)\"]).otherwise(0))\n",
    "\n",
    "\n"
   ]
  },
  {
   "cell_type": "code",
   "execution_count": 371,
   "metadata": {},
   "outputs": [],
   "source": [
    "z = y.withColumn('INC_COUNT_LTD',when(x.Party=='INC',INC_Donor).otherwise(0))\n",
    "z = z.withColumn('BJP_COUNT_LTD',when(x.Party=='BJP',BJP_Donor).otherwise(0))\n",
    "z = z.withColumn('NCP_COUNT_LTD',when(x.Party=='NCP',NCP_Donor).otherwise(0))\n",
    "z = z.withColumn('CPI_COUNT_LTD',when(x.Party=='CPI',CPI_Donor).otherwise(0))\n",
    "z = z.withColumn('CPIM_COUNT_LTD',when(x.Party=='CPI(M)',CPIM_Donor).otherwise(0))\n"
   ]
  },
  {
   "cell_type": "code",
   "execution_count": 372,
   "metadata": {},
   "outputs": [],
   "source": [
    "z = z.withColumn('INC_AVG_LTD',when(x.Party=='INC',INC_avg).otherwise(0))\n",
    "z = z.withColumn('BJP_AVG_LTD',when(x.Party=='BJP',BJP_avg).otherwise(0))\n",
    "z = z.withColumn('NCP_AVG_LTD',when(x.Party=='NCP',NCP_avg).otherwise(0))\n",
    "z = z.withColumn('CPI_AVG_LTD',when(x.Party=='CPI',CPI_avg).otherwise(0))\n",
    "z = z.withColumn('CPIM_AVG_LTD',when(x.Party=='CPI(M)',CPIM_avg).otherwise(0))\n"
   ]
  },
  {
   "cell_type": "code",
   "execution_count": 373,
   "metadata": {},
   "outputs": [],
   "source": [
    "z = z.withColumn('INC_MAX_LTD',when(x.Party=='INC',INC_max).otherwise(0))\n",
    "z = z.withColumn('BJP_MAX_LTD',when(x.Party=='BJP',BJP_max).otherwise(0))\n",
    "z = z.withColumn('NCP_MAX_LTD',when(x.Party=='NCP',NCP_max).otherwise(0))\n",
    "z = z.withColumn('CPI_MAX_LTD',when(x.Party=='CPI',CPI_max).otherwise(0))\n",
    "z = z.withColumn('CPIM_MAX_LTD',when(x.Party=='CPI(M)',CPIM_max).otherwise(0))\n"
   ]
  },
  {
   "cell_type": "code",
   "execution_count": 374,
   "metadata": {},
   "outputs": [],
   "source": [
    "z = z.withColumn('INC_TOP_DONOR',when(x.Party=='INC',INC_top_donor).otherwise(\"\"))\n",
    "z = z.withColumn('BJP_TOP_DONOR',when(x.Party=='BJP',BJP_top_donor).otherwise(\"\"))\n",
    "z = z.withColumn('NCP_TOP_DONOR',when(x.Party=='NCP',NCP_top_donor).otherwise(\"\"))\n",
    "z = z.withColumn('CPI_TOP_DONOR',when(x.Party=='CPI',CPI_top_donor).otherwise(\"\"))\n",
    "z = z.withColumn('CPIM_TOP_DONOR',when(x.Party=='CPI(M)',CPIM_top_donor).otherwise(\"\"))\n"
   ]
  },
  {
   "cell_type": "code",
   "execution_count": 375,
   "metadata": {},
   "outputs": [],
   "source": [
    "INC_years = x.groupBy('Party','fin_year').sum('Amount').filter(x.Party == 'INC').sort(\"fin_year\")\n",
    "BJP_years = x.groupBy('Party','fin_year').sum('Amount').filter(x.Party == 'BJP').sort(\"fin_year\")\n",
    "NCP_years = x.groupBy('Party','fin_year').sum('Amount').filter(x.Party == 'NCP').sort(\"fin_year\")\n",
    "CPI_years = x.groupBy('Party','fin_year').sum('Amount').filter(x.Party == 'CPI').sort(\"fin_year\")\n",
    "CPIM_years = x.groupBy('Party','fin_year').sum('Amount').filter(x.Party == 'CPI(M)').sort(\"fin_year\")\n",
    "\n"
   ]
  },
  {
   "cell_type": "code",
   "execution_count": 376,
   "metadata": {},
   "outputs": [],
   "source": [
    "\n",
    "\n",
    "k = x.groupBy('mode_of_payment').agg(count('mode_of_payment'))\n",
    "\n",
    "z = z.withColumn('Count_of_donation_by_cheque',when(x.mode_of_payment=='CHEQUE',k.collect()[0][1]).otherwise(\"\"))\n",
    "z = z.withColumn('Count_of_donation_by_bank',when(x.mode_of_payment=='BANK',k.collect()[1][1]).otherwise(\"\"))\n",
    "z = z.withColumn('Count_of_donation_by_cash',when(x.mode_of_payment=='CASH',k.collect()[2][1]).otherwise(\"\"))\n",
    "z = z.withColumn('Count_of_donation_by_others',when(x.mode_of_payment=='Others',k.collect()[3][1]).otherwise(\"\"))\n",
    "\n"
   ]
  },
  {
   "cell_type": "code",
   "execution_count": null,
   "metadata": {},
   "outputs": [],
   "source": [
    "\n",
    "for i in range(12):    \n",
    "    name = 'SUM_of_donation_by_year_in_by_INC' + INC_years.collect()[i][1]\n",
    "    z=z.withColumn(name,when( (x.Party=='INC') & (x.fin_year==INC_years.collect()[i][1]),INC_years.collect()[i][2]).otherwise(0))\n",
    "\n",
    "for i in range(12):    \n",
    "    name = 'SUM_of_donation_by_year_in_by_BJP' + BJP_years.collect()[i][1]\n",
    "    z=z.withColumn(name,when( (x.Party=='BJP') & (x.fin_year==BJP_years.collect()[i][1]),BJP_years.collect()[i][2]).otherwise(0))\n",
    "\n",
    "for i in range(8):    \n",
    "    name = 'SUM_of_donation_by_year_in_by_NCP' + NCP_years.collect()[i][1]\n",
    "    z=z.withColumn(name,when( (x.Party=='NCP') & (x.fin_year==NCP_years.collect()[i][1]),NCP_years.collect()[i][2]).otherwise(0))\n",
    "    \n",
    "for i in range(12):    \n",
    "    name = 'SUM_of_donation_by_year_in_by_CPI' + CPI_years.collect()[i][1]\n",
    "    z=z.withColumn(name,when( (x.Party=='CPI') & (x.fin_year==CPI_years.collect()[i][1]),CPI_years.collect()[i][2]).otherwise(0))\n",
    "\n",
    "for i in range(12):    \n",
    "    name = 'SUM_of_donation_by_year_in_by_CPIM' + CPIM_years.collect()[i][1]\n",
    "    z=z.withColumn(name,when( (x.Party=='CPIM') & (x.fin_year==CPIM_years.collect()[i][1]),CPIM_years.collect()[i][2]).otherwise(0)) \n",
    "\n",
    "\n",
    "\n",
    "  "
   ]
  },
  {
   "cell_type": "code",
   "execution_count": null,
   "metadata": {},
   "outputs": [],
   "source": [
    "z.write.parquet(\"final_donation.parquet\")"
   ]
  }
 ],
 "metadata": {
  "kernelspec": {
   "display_name": "Python 3.9.13 64-bit",
   "language": "python",
   "name": "python3"
  },
  "language_info": {
   "codemirror_mode": {
    "name": "ipython",
    "version": 3
   },
   "file_extension": ".py",
   "mimetype": "text/x-python",
   "name": "python",
   "nbconvert_exporter": "python",
   "pygments_lexer": "ipython3",
   "version": "3.9.13"
  },
  "orig_nbformat": 4,
  "vscode": {
   "interpreter": {
    "hash": "97f46cd2d7534c7c55cbc6f1d0de93379745c71cc402bca1feec326bf5ea6807"
   }
  }
 },
 "nbformat": 4,
 "nbformat_minor": 2
}
